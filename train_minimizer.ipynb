{
 "cells": [
  {
   "cell_type": "code",
   "execution_count": 1,
   "metadata": {},
   "outputs": [],
   "source": [
    "import numpy as np\n",
    "import pandas as pd\n",
    "import random\n",
    "from collections import namedtuple, deque\n",
    "import tensorflow as tf\n",
    "from tensorflow.distributions import Categorical\n",
    "from tensorflow import keras\n",
    "from tensorflow.python.keras.layers import BatchNormalization,Flatten,Dense,Input,Activation,Dropout,Reshape,Softmax, LSTM\n",
    "from tensorflow.python.keras.layers import Conv2D, Bidirectional, GRU\n",
    "from tensorflow.python.keras import Sequential, models, optimizers, layers, losses, metrics, regularizers\n",
    "from tensorflow.contrib.layers import xavier_initializer\n",
    "import tensorflow.python.keras.backend as K\n",
    "\n",
    "import matplotlib.pyplot as plt\n",
    "import scipy.io as sio\n",
    "import scipy.optimize as sop\n",
    "import math\n",
    "from scipy.optimize import minimize"
   ]
  },
  {
   "cell_type": "code",
   "execution_count": 3,
   "metadata": {},
   "outputs": [],
   "source": [
    "# global parameters\n",
    "global_user = 20\n",
    "global_x_min = 0\n",
    "global_x_max = 1\n",
    "global_eta = 0.02\n",
    "global_epsilon = 0.71"
   ]
  },
  {
   "cell_type": "markdown",
   "metadata": {},
   "source": [
    "## maximizer model"
   ]
  },
  {
   "cell_type": "code",
   "execution_count": 4,
   "metadata": {},
   "outputs": [],
   "source": [
    "## load the lam=5 maxi\n",
    "lamb = 1\n",
    "def my_max_loss(y_true, y_pred): #[None,300],None[150]\n",
    "    y_true_x = y_true[:,:global_user]+y_pred\n",
    "    y_true_a = y_true[:,global_user:]\n",
    "    y_true_x = tf.reshape(y_true_x,[-1,4,5])\n",
    "    y_true_a = tf.reshape(y_true_a,[-1,4,5])\n",
    "    xa = 1-(y_true_x)*y_true_a #shape=(None,4,5)\n",
    "    loss = K.prod(1-K.prod(xa,axis=-1),axis=-1,keepdims=True) # shape=(None,1)\n",
    "    loss = loss-global_eta*K.sum(K.sum(y_true_a,axis=-1),axis=-1,keepdims=True) # shape(None,1)\n",
    "    bounds = K.sqrt(K.sum(K.square(y_pred),axis=-1,keepdims=True))-global_epsilon # shape: (None,1)\n",
    "    bounds1 = K.sum(K.sum(K.maximum(1.0,y_true_x)-1,axis=-1),axis=-1,keepdims=True)\n",
    "    bounds2 = K.sum(K.sum(K.maximum(0.0,-1*y_true_x),axis=-1),axis=-1,keepdims=True)\n",
    "    loss2 = K.maximum(bounds,0) # shape: (None,1)\n",
    "    return loss+lamb*loss2+100*(bounds1+bounds2)\n",
    "# maximize model\n",
    "def get_maxi_model(hiddens,model_name):\n",
    "    \"\"\"maxi models \"\"\"\n",
    "    xa = Input(shape=(global_user*2,),name='input')\n",
    "    a = xa[:,global_user:]    \n",
    "    h = Dense(hiddens[0],activation=None,name='hidden_0')(xa)\n",
    "#     h = BatchNormalization(name='BN_0')(h)\n",
    "    h = Activation(activation='relu',name='Act_0')(h)\n",
    "    for i,h_num in enumerate(hiddens[1:]):\n",
    "        h = Dense(h_num,activation='relu',name='hidden_{}'.format(i+1))(h)\n",
    "#         h = BatchNormalization(name='BN_{}'.format(i+1))(h)\n",
    "        h = Activation(activation='relu',name='Act_{}'.format(i+1))(h)\n",
    "    out = Dense(units=global_user,activation='tanh',name='out')(h)#noise\n",
    "    out = 0.71*out*a\n",
    "    model = models.Model(inputs=xa,outputs=out,name=model_name)\n",
    "    return model"
   ]
  },
  {
   "cell_type": "code",
   "execution_count": 5,
   "metadata": {},
   "outputs": [],
   "source": [
    "tf.reset_default_graph()"
   ]
  },
  {
   "cell_type": "code",
   "execution_count": 6,
   "metadata": {},
   "outputs": [
    {
     "name": "stdout",
     "output_type": "stream",
     "text": [
      "WARNING:tensorflow:From C:\\Users\\Zhihui\\AppData\\Local\\conda\\conda\\envs\\tensorflow\\lib\\site-packages\\tensorflow\\python\\ops\\init_ops.py:1251: calling VarianceScaling.__init__ (from tensorflow.python.ops.init_ops) with dtype is deprecated and will be removed in a future version.\n",
      "Instructions for updating:\n",
      "Call initializer instance with the dtype argument instead of passing it to the constructor\n"
     ]
    },
    {
     "data": {
      "text/plain": [
       "<tensorflow.python.training.tracking.util.CheckpointLoadStatus at 0x2306fdfcf08>"
      ]
     },
     "execution_count": 6,
     "metadata": {},
     "output_type": "execute_result"
    }
   ],
   "source": [
    "hidden_nodes = [200,200]#[200,200]\n",
    "layer_num = 2\n",
    "file_path = '../checkpoints_pretrain/worst_case_model_layer'\n",
    "model_1 = get_maxi_model(hiddens=hidden_nodes,model_name='maxi')\n",
    "model_1.compile(loss=my_max_loss,optimizer=optimizers.Adam(learning_rate=1e-5))\n",
    "model_1.load_weights(file_path+'{}_200_lam1'.format(layer_num))\n",
    "model_2 = get_maxi_model(hiddens=hidden_nodes,model_name='maxi')\n",
    "model_2.compile(loss=my_max_loss,optimizer=optimizers.Adam(learning_rate=1e-5))\n",
    "model_2.load_weights(file_path+'{}_200_lam2'.format(layer_num))\n",
    "\n",
    "model_5 = get_maxi_model(hiddens=hidden_nodes,model_name='maxi')\n",
    "model_5.compile(loss=my_max_loss,optimizer=optimizers.Adam(learning_rate=1e-5))\n",
    "model_5.load_weights(file_path+'{}_200_lam5'.format(layer_num))\n",
    "\n",
    "model_10 = get_maxi_model(hiddens=hidden_nodes,model_name='maxi')\n",
    "model_10.compile(loss=my_max_loss,optimizer=optimizers.Adam(learning_rate=1e-5))\n",
    "model_10.load_weights(file_path+'{}_200_lam8'.format(layer_num))"
   ]
  },
  {
   "cell_type": "code",
   "execution_count": 7,
   "metadata": {},
   "outputs": [],
   "source": [
    "def calcuate_worst_case(x_val_pair):\n",
    "    x_val = x_val_pair[:,:global_user]\n",
    "    action_val = x_val_pair[:,global_user:]\n",
    "    \n",
    "    # get worse\n",
    "    x_val_worse_1 = model_1.predict(x_val_pair).reshape([-1,global_user])\n",
    "    x_val_worse_2 = model_2.predict(x_val_pair).reshape([-1,global_user])\n",
    "    x_val_worse_5 = model_5.predict(x_val_pair).reshape([-1,global_user])\n",
    "    x_val_worse_10 = model_10.predict(x_val_pair).reshape([-1,global_user])\n",
    "\n",
    "    dx_1 = np.sqrt(np.sum(np.square(x_val_worse_1),axis=-1,keepdims=True))\n",
    "    dx_2 = np.sqrt(np.sum(np.square(x_val_worse_2),axis=-1,keepdims=True))\n",
    "    dx_5 = np.sqrt(np.sum(np.square(x_val_worse_5),axis=-1,keepdims=True))\n",
    "    dx_10 = np.sqrt(np.sum(np.square(x_val_worse_10),axis=-1,keepdims=True))\n",
    "    \n",
    "    ratio_1 = np.maximum(dx_1/global_epsilon,1)\n",
    "    ratio_2 = np.maximum(dx_2/global_epsilon,1)\n",
    "    ratio_5 = np.maximum(dx_5/global_epsilon,1)\n",
    "    ratio_10 = np.maximum(dx_10/global_epsilon,1)\n",
    "\n",
    "    x_val_worse_add_1 = x_val_pair[:,:global_user]+x_val_worse_1/ratio_1\n",
    "    x_val_worse_add_2 = x_val_pair[:,:global_user]+x_val_worse_2/ratio_2\n",
    "    x_val_worse_add_5 = x_val_pair[:,:global_user]+x_val_worse_5/ratio_5\n",
    "    x_val_worse_add_10 = x_val_pair[:,:global_user]+x_val_worse_10/ratio_10\n",
    "    \n",
    "    x_val_worse_add_1 = np.minimum(np.maximum(x_val_worse_add_1,global_x_min),global_x_max)\n",
    "    x_val_worse_add_2 = np.minimum(np.maximum(x_val_worse_add_2,global_x_min),global_x_max)\n",
    "    x_val_worse_add_5 = np.minimum(np.maximum(x_val_worse_add_5,global_x_min),global_x_max)\n",
    "    x_val_worse_add_10 = np.minimum(np.maximum(x_val_worse_add_10,global_x_min),global_x_max)\n",
    "    \n",
    "    obj_1 = obj_fun(x_val_worse_add_1,action_val).reshape([-1,1])\n",
    "    obj_2 = obj_fun(x_val_worse_add_2,action_val).reshape([-1,1])\n",
    "    obj_5 = obj_fun(x_val_worse_add_5,action_val).reshape([-1,1])\n",
    "    obj_10 = obj_fun(x_val_worse_add_10,action_val).reshape([-1,1])\n",
    "    \n",
    "    obj_ensemble = np.hstack((obj_1,obj_2,obj_5,obj_10))\n",
    "    obj_worse = np.min(obj_ensemble,axis=-1,keepdims=True)\n",
    "    return obj_worse"
   ]
  },
  {
   "cell_type": "code",
   "execution_count": 8,
   "metadata": {},
   "outputs": [],
   "source": [
    "def get_robust_performance(x_val,actions): # return [None,1]\n",
    "    my_p = calcuate_worst_case(np.hstack((x_val.reshape([-1,global_user]),\n",
    "                                          actions.reshape([-1,global_user]))))\n",
    "    return my_p"
   ]
  },
  {
   "cell_type": "code",
   "execution_count": 9,
   "metadata": {},
   "outputs": [],
   "source": [
    "# load data\n",
    "x_train = sio.loadmat('../data/x_train.mat')['p_linear']\n",
    "x_val = sio.loadmat('../data/x_val.mat')['p_linear']\n",
    "x_test = sio.loadmat('../data/x_test.mat')['p_linear']\n",
    "x_test_true = sio.loadmat('../data/x_test.mat')['p_true']"
   ]
  },
  {
   "cell_type": "code",
   "execution_count": 10,
   "metadata": {},
   "outputs": [],
   "source": [
    "def obj_fun(x,a): # input is numpy [None,20]\n",
    "    \"\"\" object function to minimize \"\"\"\n",
    "    x,a = x.reshape([-1,global_user]),a.reshape([-1,global_user])\n",
    "    res = 1-x*a  #[None,20]\n",
    "    res = res.reshape([-1,4,5]) #[None,4,5]\n",
    "    res = 1-np.prod(res,axis=-1) #[None,4]\n",
    "    res = np.prod(res,axis=-1) #[None]\n",
    "    res = res-global_eta*np.sum(a,axis=-1) #[None,]\n",
    "    return res #[None,]"
   ]
  },
  {
   "cell_type": "code",
   "execution_count": 11,
   "metadata": {},
   "outputs": [],
   "source": [
    "hidden_size = [50,50]\n",
    "global_T = 1"
   ]
  },
  {
   "cell_type": "code",
   "execution_count": 12,
   "metadata": {
    "scrolled": true
   },
   "outputs": [
    {
     "name": "stdout",
     "output_type": "stream",
     "text": [
      "WARNING:tensorflow:From <ipython-input-12-7e1c25275174>:21: Categorical.__init__ (from tensorflow.python.ops.distributions.categorical) is deprecated and will be removed after 2019-01-01.\n",
      "Instructions for updating:\n",
      "The TensorFlow Distributions library has moved to TensorFlow Probability (https://github.com/tensorflow/probability). You should update all references to use `tfp.distributions` instead of `tf.distributions`.\n",
      "WARNING:tensorflow:From C:\\Users\\Zhihui\\AppData\\Local\\conda\\conda\\envs\\tensorflow\\lib\\site-packages\\tensorflow\\python\\ops\\distributions\\categorical.py:242: Distribution.__init__ (from tensorflow.python.ops.distributions.distribution) is deprecated and will be removed after 2019-01-01.\n",
      "Instructions for updating:\n",
      "The TensorFlow Distributions library has moved to TensorFlow Probability (https://github.com/tensorflow/probability). You should update all references to use `tfp.distributions` instead of `tf.distributions`.\n",
      "WARNING:tensorflow:From C:\\Users\\Zhihui\\AppData\\Local\\conda\\conda\\envs\\tensorflow\\lib\\site-packages\\tensorflow\\python\\ops\\distributions\\categorical.py:278: multinomial (from tensorflow.python.ops.random_ops) is deprecated and will be removed in a future version.\n",
      "Instructions for updating:\n",
      "Use `tf.random.categorical` instead.\n",
      "WARNING:tensorflow:From <ipython-input-12-7e1c25275174>:27: calling reduce_sum_v1 (from tensorflow.python.ops.math_ops) with keep_dims is deprecated and will be removed in a future version.\n",
      "Instructions for updating:\n",
      "keep_dims is deprecated, use keepdims instead\n",
      "WARNING:tensorflow:From C:\\Users\\Zhihui\\AppData\\Local\\conda\\conda\\envs\\tensorflow\\lib\\site-packages\\tensorflow\\python\\ops\\math_grad.py:1250: add_dispatch_support.<locals>.wrapper (from tensorflow.python.ops.array_ops) is deprecated and will be removed in a future version.\n",
      "Instructions for updating:\n",
      "Use tf.where in 2.0, which has the same broadcast rule as np.where\n"
     ]
    }
   ],
   "source": [
    "# def the actor graph # begin by result all\n",
    "tf.random.set_random_seed(0)\n",
    "random.seed(0)\n",
    "np.random.seed(0)\n",
    "# define the graph\n",
    "x_input = tf.placeholder(dtype=tf.float32,shape=[None,global_user,],name='x_input')\n",
    "a_value = tf.placeholder(dtype=tf.float32,shape=[None,1],name='value_input')\n",
    "with tf.variable_scope(\"actor\"):\n",
    "    h = Reshape(target_shape=(global_user,1,1),name='in_reshape')(x_input)\n",
    "    embed = Conv2D(filters=hidden_size[0],kernel_size=(1,1),strides=(1,1),activation='relu',name='embed')(h)\n",
    "    embed = Reshape(target_shape=(global_user,hidden_size[0]),name='in_reshape')(embed)\n",
    "    h1 = LSTM(hidden_size[1], return_sequences=True, return_state=False,name='LSTM1')(embed)\n",
    "    logit = LSTM(1, return_sequences=True, return_state=False,name='logit')(h1) #[None,10,1]\n",
    "    logit = Reshape(target_shape=(global_user,),name='out_reshape')(logit)#[None,10]\n",
    "    logit = logit/global_T\n",
    "    out_prob = Activation(activation='sigmoid',name='output')(logit)#[None,10]\n",
    "    out_prob = Reshape(target_shape=(global_user,1))(out_prob)\n",
    "    out_prob_r = 1-out_prob\n",
    "    out_prob_final = tf.concat((out_prob,out_prob_r),axis=-1)#[None,10,2]\n",
    "    # obtain probability by sampling and get the onehot_p as the final action\n",
    "    dist = Categorical(probs=out_prob_final)\n",
    "    action = dist.sample()\n",
    "    action = tf.cast(action,tf.int32) #shape=(None,10)\n",
    "    \n",
    "    select_action = tf.placeholder(dtype=tf.int32,shape=[None,global_user],name='select_action')\n",
    "    log_p = dist.log_prob(select_action) #shape=(None,15) corresponding to the log of position\n",
    "    log_p_sum = tf.reduce_sum(log_p,axis=-1,keep_dims=True)\n",
    "    reward = tf.placeholder(dtype=tf.float32,shape=[None,1],name='reward')\n",
    "    \n",
    "    # get the loss and optimizer\n",
    "    delta_reward = reward-a_value # shape(None,1)\n",
    "    actor_loss = tf.reduce_mean(-1*delta_reward*log_p_sum,axis=0) # shape(0,)\n",
    "    \n",
    "    # set for lr decay\n",
    "    global_step1 = tf.Variable(0, trainable=False, name=\"global_step1\")\n",
    "    lr1_start = 2e-3 # initial learning rate\n",
    "    lr1_decay_rate = 0.9 # learning rate decay rate\n",
    "    lr1_decay_step = 20*10 # learning rate decay step\n",
    "    lr1 = tf.train.exponential_decay(lr1_start,global_step1,lr1_decay_step,\n",
    "                                     lr1_decay_rate, staircase=False, name=\"learning_rate1\")\n",
    "    \n",
    "    actor_opt = tf.train.AdamOptimizer(learning_rate=lr1,beta1=0.9,beta2=0.99, epsilon=0.0000001)   \n",
    "    gvs = actor_opt.compute_gradients(actor_loss)\n",
    "    capped_gvs = [(tf.clip_by_norm(grad, 1.), var) for grad, var in gvs if grad is not None]\n",
    "    actor_train = actor_opt.apply_gradients(capped_gvs,global_step=global_step1) #actor_train = actor_opt.minimize(actor_loss)\n",
    "    \n",
    "saver = tf.train.Saver(max_to_keep=2)"
   ]
  },
  {
   "cell_type": "code",
   "execution_count": 13,
   "metadata": {},
   "outputs": [],
   "source": [
    "init = tf.global_variables_initializer()"
   ]
  },
  {
   "cell_type": "code",
   "execution_count": 14,
   "metadata": {
    "scrolled": true
   },
   "outputs": [
    {
     "name": "stdout",
     "output_type": "stream",
     "text": [
      "0.018575450469554635 3.6197825e-06 0.0019894917\n",
      "0.09195656952636723 2.478662e-05 0.0019790386\n",
      "WARNING:tensorflow:From C:\\Users\\Zhihui\\AppData\\Local\\conda\\conda\\envs\\tensorflow\\lib\\site-packages\\tensorflow\\python\\training\\saver.py:960: remove_checkpoint (from tensorflow.python.training.checkpoint_management) is deprecated and will be removed in a future version.\n",
      "Instructions for updating:\n",
      "Use standard file APIs to delete files with this prefix.\n",
      "0.10616800003144171 3.198595e-05 0.0019686404\n",
      "0.1095802948001578 3.3152388e-05 0.0019582969\n",
      "0.1108249104117529 3.661694e-05 0.0019480075\n",
      "0.11498971882931597 3.526824e-05 0.0019377724\n",
      "0.11385513297237715 3.7536298e-05 0.001927591\n",
      "0.11442514555832649 3.8987553e-05 0.0019174631\n",
      "0.11867553054671526 3.8567483e-05 0.0019073884\n",
      "0.11495147201848044 3.8208957e-05 0.0018973666\n",
      "0.11710661957663861 4.0878233e-05 0.0018873976\n",
      "0.11688674411292864 3.615935e-05 0.0018774809\n",
      "0.12128172498658855 4.092432e-05 0.0018676163\n",
      "0.11392534630249458 4.0947234e-05 0.0018578034\n",
      "0.12339979407262008 4.142451e-05 0.0018480422\n",
      "0.12164190299938354 4.295207e-05 0.0018383323\n",
      "0.119590930460301 3.8970935e-05 0.0018286733\n",
      "0.1249471578189917 4.341088e-05 0.0018190652\n",
      "0.12042250712609193 4.0510917e-05 0.0018095075\n",
      "0.12218526392160274 3.991674e-05 0.0018000001\n",
      "0.12063668287421943 4.265994e-05 0.0017905426\n",
      "0.12543083491147977 4.297403e-05 0.0017811346\n",
      "0.11946442339937462 4.2086696e-05 0.0017717762\n",
      "0.12612063571133753 4.183421e-05 0.0017624671\n",
      "0.12306903449514871 4.1889198e-05 0.0017532068\n",
      "0.11746838032236169 3.9191975e-05 0.0017439951\n",
      "0.12368256637341922 4.1307485e-05 0.0017348318\n",
      "0.12450296764776662 3.980047e-05 0.0017257167\n",
      "0.1165261374675948 4.1799223e-05 0.0017166495\n",
      "0.12036596872298269 4.1898184e-05 0.00170763\n",
      "0.1241612907319045 4.0712224e-05 0.0016986578\n",
      "0.1208071062699933 4.207608e-05 0.0016897328\n",
      "0.11991493305159627 3.916507e-05 0.0016808545\n",
      "0.12044323966655443 4.2153853e-05 0.001672023\n",
      "0.12463507439652262 4.244308e-05 0.001663238\n",
      "0.11971313557954609 4.506427e-05 0.001654499\n",
      "0.12052434376111616 4.2163338e-05 0.001645806\n",
      "0.11938382480860887 4.1504685e-05 0.0016371586\n",
      "0.11784536722022573 4.486216e-05 0.0016285566\n",
      "0.12375233088435503 4.5293193e-05 0.00162\n",
      "0.11919688167658232 4.0067654e-05 0.0016114882\n",
      "0.11987496763015212 4.1524458e-05 0.0016030212\n",
      "0.12055803732191696 4.032933e-05 0.0015945986\n",
      "0.12032433272662124 4.360317e-05 0.0015862203\n",
      "0.12229515301641461 4.3908083e-05 0.001577886\n",
      "0.11541412983849741 4.1094143e-05 0.0015695955\n",
      "0.12425983768142455 4.0857536e-05 0.0015613487\n",
      "0.1181505098790791 4.1276522e-05 0.001553145\n",
      "0.11947067991305144 3.9797585e-05 0.0015449845\n",
      "0.11781146972220335 4.1415584e-05 0.0015368669\n",
      "0.12128298794910802 4.179717e-05 0.001528792\n",
      "0.1224419453552343 4.6338606e-05 0.0015207594\n",
      "0.12125822980549661 4.1180338e-05 0.001512769\n",
      "0.1222168370204613 4.130658e-05 0.0015048207\n",
      "0.11965259288928237 4.3136115e-05 0.0014969141\n",
      "0.12085302864017694 4.0596227e-05 0.001489049\n",
      "0.12340119096587154 4.2965992e-05 0.0014812254\n",
      "0.11565467513351332 4.2184216e-05 0.0014734428\n",
      "0.11737167878627991 4.1672385e-05 0.001465701\n",
      "0.11936741628726677 4.28051e-05 0.0014579999\n",
      "0.12028457362906476 4.3489854e-05 0.0014503393\n",
      "0.11809233210591781 4.204924e-05 0.001442719\n",
      "0.11942903787367987 4.08735e-05 0.0014351388\n",
      "0.12028463707309398 4.3409967e-05 0.0014275983\n",
      "0.12044916242694971 4.4073768e-05 0.0014200974\n",
      "0.12056374933514397 4.3062173e-05 0.001412636\n",
      "0.11807530379003253 4.0314746e-05 0.0014052137\n",
      "0.1263986331064998 4.3369662e-05 0.0013978306\n",
      "0.12351231418272582 4.4529595e-05 0.001390486\n",
      "0.12294247878616771 4.4687837e-05 0.0013831803\n",
      "0.12180468264715187 4.38492e-05 0.0013759127\n",
      "0.12293609155988319 4.1985477e-05 0.0013686834\n",
      "0.12389111057445 3.937345e-05 0.0013614921\n",
      "0.12145522054941878 4.260655e-05 0.0013543386\n",
      "0.12124006916036305 4.2492382e-05 0.0013472226\n",
      "0.12580873549454002 4.1319854e-05 0.0013401441\n",
      "0.12342335606583922 4.1441766e-05 0.0013331028\n",
      "0.11415896951511545 4.0298215e-05 0.0013260983\n",
      "0.12327959503559248 4.053623e-05 0.0013191309\n",
      "0.11714890378552723 3.849095e-05 0.0013121999\n",
      "0.11956418949174916 4.154077e-05 0.0013053054\n",
      "0.11820466247095542 4.3689914e-05 0.001298447\n",
      "0.1229367467630182 4.6104044e-05 0.0012916249\n",
      "0.12204021554854867 4.2498246e-05 0.0012848384\n",
      "0.12256924616972364 4.3806274e-05 0.0012780877\n",
      "0.11846412993870203 3.833837e-05 0.0012713724\n",
      "0.12534914776190995 4.1845855e-05 0.0012646924\n",
      "0.12242940007676098 4.0820883e-05 0.0012580474\n",
      "0.11820726839230511 4.1574232e-05 0.0012514375\n",
      "0.11721441001850821 4.234221e-05 0.0012448621\n",
      "0.1193949152084048 4.0593764e-05 0.0012383215\n",
      "0.12628453619552327 3.9430342e-05 0.0012318151\n",
      "0.11913535046364372 4.3582444e-05 0.0012253429\n",
      "0.12203818650971435 4.015153e-05 0.0012189047\n",
      "0.11665937870611895 4.4262826e-05 0.0012125004\n",
      "0.11709132686999894 4.2540527e-05 0.0012061297\n",
      "0.11819375790600561 4.230548e-05 0.0011997925\n",
      "0.12110915436670684 4.0646377e-05 0.0011934885\n",
      "0.12398280733206357 4.033016e-05 0.0011872178\n",
      "0.1214205341263882 4.3101674e-05 0.0011809799\n"
     ]
    }
   ],
   "source": [
    "sess = tf.Session()\n",
    "sess.run(init)\n",
    "avg_rewar_list = []\n",
    "avg_log_p_sum_list = []\n",
    "train_size = 1000\n",
    "for i in range(100):\n",
    "    # train actor\n",
    "    for _ in range(10): #train 10 times\n",
    "        index = np.random.choice(15000,train_size)\n",
    "        actor_x_input = x_train[index]\n",
    "        # predict action\n",
    "        predict_action = sess.run(action,{x_input:actor_x_input}) #[None,10]\n",
    "        predict_reward = get_robust_performance(actor_x_input,predict_action) #[None,1]\n",
    "        # 1. simulate the avg reward\n",
    "        avg_reward = np.zeros((train_size,0)) #[None,0]\n",
    "        for _ in range(20):\n",
    "            onepass_action = sess.run(action,{x_input:actor_x_input}) #[None,5]\n",
    "            onepass_reward = get_robust_performance(actor_x_input,onepass_action) #[None,1]\n",
    "            \n",
    "            avg_reward = np.hstack((avg_reward,onepass_reward))\n",
    "        avg_reward = np.mean(avg_reward,axis=-1,keepdims=True) #(None,1)\n",
    "        # 2. train actor\n",
    "        sess.run(actor_train,{x_input:actor_x_input,select_action:predict_action,\n",
    "                              reward:predict_reward,a_value:avg_reward})        \n",
    "    saver.save(sess, './LSTM/' + 'model_2layer_50.ckpt', global_step=i+1)\n",
    "    if i%1==0:\n",
    "        cur_action = sess.run(action,{x_input:x_val})\n",
    "        cur_reward = get_robust_performance(x_val,cur_action)\n",
    "        \n",
    "        cur_log_p_sum,cur_lr1 = sess.run([log_p_sum,lr1],\n",
    "                                         {x_input:x_val,\n",
    "                                          select_action:cur_action})\n",
    "        print(np.mean(cur_reward),np.mean(np.exp(cur_log_p_sum)),cur_lr1)\n",
    "        avg_rewar_list.append(np.mean(cur_reward))\n",
    "        avg_log_p_sum_list.append(np.mean(np.exp(cur_log_p_sum)))"
   ]
  }
 ],
 "metadata": {
  "kernelspec": {
   "display_name": "Python 3",
   "language": "python",
   "name": "python3"
  },
  "language_info": {
   "codemirror_mode": {
    "name": "ipython",
    "version": 3
   },
   "file_extension": ".py",
   "mimetype": "text/x-python",
   "name": "python",
   "nbconvert_exporter": "python",
   "pygments_lexer": "ipython3",
   "version": "3.6.13"
  },
  "varInspector": {
   "cols": {
    "lenName": 16,
    "lenType": 16,
    "lenVar": 40
   },
   "kernels_config": {
    "python": {
     "delete_cmd_postfix": "",
     "delete_cmd_prefix": "del ",
     "library": "var_list.py",
     "varRefreshCmd": "print(var_dic_list())"
    },
    "r": {
     "delete_cmd_postfix": ") ",
     "delete_cmd_prefix": "rm(",
     "library": "var_list.r",
     "varRefreshCmd": "cat(var_dic_list()) "
    }
   },
   "types_to_exclude": [
    "module",
    "function",
    "builtin_function_or_method",
    "instance",
    "_Feature"
   ],
   "window_display": false
  }
 },
 "nbformat": 4,
 "nbformat_minor": 4
}
