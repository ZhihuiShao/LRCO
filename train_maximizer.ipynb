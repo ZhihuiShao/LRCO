{
 "cells": [
  {
   "cell_type": "code",
   "execution_count": null,
   "metadata": {},
   "outputs": [],
   "source": [
    "import numpy as np\n",
    "import pandas as pd\n",
    "import random\n",
    "from collections import namedtuple, deque\n",
    "import tensorflow as tf\n",
    "\n",
    "from tensorflow import keras\n",
    "from tensorflow.python.keras.layers import BatchNormalization,Flatten,Dense, Concatenate\n",
    "from tensorflow.python.keras.layers import Input,Activation,Dropout,Reshape,Softmax, Activation\n",
    "from tensorflow.python.keras import Sequential, models, optimizers, layers, losses, metrics, regularizers\n",
    "import tensorflow.python.keras.backend as K\n",
    "\n",
    "import matplotlib.pyplot as plt\n",
    "import scipy.io as sio\n",
    "import scipy.optimize as sop\n",
    "import math"
   ]
  },
  {
   "cell_type": "code",
   "execution_count": null,
   "metadata": {},
   "outputs": [],
   "source": [
    "# global parameters\n",
    "global_user = 20\n",
    "global_x_min = 0\n",
    "global_x_max = 1\n",
    "global_eta = 0.02\n",
    "global_epsilon = 0.71"
   ]
  },
  {
   "cell_type": "code",
   "execution_count": null,
   "metadata": {},
   "outputs": [],
   "source": [
    "def obj_fun(x,a): # input is numpy [None,20]\n",
    "    \"\"\" object function to minimize \"\"\"\n",
    "    x,a = x.reshape([-1,global_user]),a.reshape([-1,global_user])\n",
    "    res = 1-x*a  #[None,20]\n",
    "    res = res.reshape([-1,4,5]) #[None,4,5]\n",
    "    res = 1-np.prod(res,axis=-1) #[None,4]\n",
    "    res = np.prod(res,axis=-1) #[None]\n",
    "    res = res-global_eta*np.sum(a,axis=-1) #[None,]\n",
    "    return res #[None,]"
   ]
  },
  {
   "cell_type": "code",
   "execution_count": null,
   "metadata": {},
   "outputs": [],
   "source": [
    "# load training data\n",
    "x_train = np.tile(sio.loadmat('./data/x_train.mat')['p_linear'],[4,1,1])\n",
    "x_val = np.tile(sio.loadmat('./data/x_val.mat')['p_linear'],[4,1,1])\n",
    "x_test = np.tile(sio.loadmat('./data/x_test.mat')['p_linear'],[4,1,1])"
   ]
  },
  {
   "cell_type": "code",
   "execution_count": null,
   "metadata": {},
   "outputs": [],
   "source": [
    "# load all actions\n",
    "def load_actions(name='val'):\n",
    "    action_val1 = sio.loadmat('./result/'+name+'_random_actions.mat')['action']\n",
    "    action_val2 = sio.loadmat('./result/'+name+'_greedy_actions.mat')['action']\n",
    "    action_val3 = sio.loadmat('./result/'+name+'_random_actions_v1.mat')['action']\n",
    "    action_val4 = sio.loadmat('./result/'+name+'_optimal_actions.mat')['action']\n",
    "    action_val = np.concatenate((action_val1,action_val2,action_val3,action_val4),axis=0)#action_val3\n",
    "    return action_val"
   ]
  },
  {
   "cell_type": "code",
   "execution_count": null,
   "metadata": {},
   "outputs": [],
   "source": [
    "action_train = load_actions(name='train')\n",
    "action_val = load_actions(name='val')\n",
    "action_test = load_actions(name='test')"
   ]
  },
  {
   "cell_type": "code",
   "execution_count": null,
   "metadata": {},
   "outputs": [],
   "source": [
    "def get_maxi_model(hiddens,model_name):\n",
    "    \"\"\"maxi models \"\"\"\n",
    "    xa = Input(shape=(global_user*2,),name='input')\n",
    "    a = xa[:,global_user:]    \n",
    "    h = Dense(hiddens[0],activation=None,name='hidden_0')(xa)\n",
    "    h = Activation(activation='relu',name='Act_0')(h)\n",
    "    for i,h_num in enumerate(hiddens[1:]):\n",
    "        h = Dense(h_num,activation='relu',name='hidden_{}'.format(i+1))(h)\n",
    "        h = Activation(activation='relu',name='Act_{}'.format(i+1))(h)\n",
    "    out = Dense(units=global_user,activation='tanh',name='out')(h)#noise\n",
    "    out = 0.71*out*a\n",
    "    model = models.Model(inputs=xa,outputs=out,name=model_name)\n",
    "    return model"
   ]
  },
  {
   "cell_type": "code",
   "execution_count": null,
   "metadata": {},
   "outputs": [],
   "source": [
    "x_train_pair = np.hstack((x_train.reshape([-1,global_user]),action_train.reshape([-1,global_user])))\n",
    "print(x_train_pair.shape)"
   ]
  },
  {
   "cell_type": "code",
   "execution_count": null,
   "metadata": {
    "scrolled": true
   },
   "outputs": [],
   "source": [
    "# pre-trained for different lambda\n",
    "for lamb in [1,2,5,8,10]:\n",
    "    print(lamb,':\\t','./checkpoints_pretrain_new/max_model_layer2_200_lam{}'.format(lamb))\n",
    "    def my_max_loss(y_true, y_pred): #[None,300],None[150]\n",
    "        y_true_x = y_true[:,:global_user]+y_pred\n",
    "        y_true_a = y_true[:,global_user:]\n",
    "        y_true_x = tf.reshape(y_true_x,[-1,4,5])\n",
    "        y_true_a = tf.reshape(y_true_a,[-1,4,5])\n",
    "        \n",
    "        xa = 1-(y_true_x)*y_true_a #shape=(None,4,5)\n",
    "        loss = K.prod(1-K.prod(xa,axis=-1),axis=-1,keepdims=True) # shape=(None,1)\n",
    "        loss = loss-global_eta*K.sum(K.sum(y_true_a,axis=-1),axis=-1,keepdims=True) # shape(None,1)\n",
    "\n",
    "        bounds = K.sqrt(K.sum(K.square(y_pred),axis=-1,keepdims=True))-global_epsilon # shape: (None,1)\n",
    "        bounds1 = K.sum(K.sum(K.maximum(1.0,y_true_x)-1,axis=-1),axis=-1,keepdims=True)\n",
    "        bounds2 = K.sum(K.sum(K.maximum(0.0,-1*y_true_x),axis=-1),axis=-1,keepdims=True)\n",
    "        loss2 = K.maximum(bounds,0) # shape: (None,1)\n",
    "        return loss+lamb*loss2+10*(bounds1+bounds2)\n",
    "    \n",
    "    maxi_model = get_maxi_model(hiddens=[400,400],model_name='maxi')\n",
    "    maxi_model.compile(loss=my_max_loss,optimizer=optimizers.Adam(learning_rate=1e-3))\n",
    "    maxi_model.fit(x_train_pair,x_train_pair,batch_size=128,epochs=50,verbose=1)\n",
    "    maxi_model.save_weights('./checkpoints_pretrain/worst_case_model_layer2_400_lam{}'.format(lamb))"
   ]
  },
  {
   "cell_type": "code",
   "execution_count": null,
   "metadata": {},
   "outputs": [],
   "source": []
  }
 ],
 "metadata": {
  "interpreter": {
   "hash": "5656ff2f70495fd88149567ed70e45fa261f17d421b9d97d280b22568d58d7c5"
  },
  "kernelspec": {
   "display_name": "Python 3.6.13 ('p36')",
   "language": "python",
   "name": "python3"
  },
  "language_info": {
   "codemirror_mode": {
    "name": "ipython",
    "version": 3
   },
   "file_extension": ".py",
   "mimetype": "text/x-python",
   "name": "python",
   "nbconvert_exporter": "python",
   "pygments_lexer": "ipython3",
   "version": "3.6.13"
  },
  "varInspector": {
   "cols": {
    "lenName": 16,
    "lenType": 16,
    "lenVar": 40
   },
   "kernels_config": {
    "python": {
     "delete_cmd_postfix": "",
     "delete_cmd_prefix": "del ",
     "library": "var_list.py",
     "varRefreshCmd": "print(var_dic_list())"
    },
    "r": {
     "delete_cmd_postfix": ") ",
     "delete_cmd_prefix": "rm(",
     "library": "var_list.r",
     "varRefreshCmd": "cat(var_dic_list()) "
    }
   },
   "types_to_exclude": [
    "module",
    "function",
    "builtin_function_or_method",
    "instance",
    "_Feature"
   ],
   "window_display": false
  }
 },
 "nbformat": 4,
 "nbformat_minor": 4
}
